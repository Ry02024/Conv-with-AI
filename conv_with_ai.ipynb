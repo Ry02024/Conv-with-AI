{
  "nbformat": 4,
  "nbformat_minor": 0,
  "metadata": {
    "colab": {
      "provenance": [],
      "toc_visible": true,
      "authorship_tag": "ABX9TyM8HUV1soE+k0HIOE2+Ztm5",
      "include_colab_link": true
    },
    "kernelspec": {
      "name": "python3",
      "display_name": "Python 3"
    },
    "language_info": {
      "name": "python"
    }
  },
  "cells": [
    {
      "cell_type": "markdown",
      "metadata": {
        "id": "view-in-github",
        "colab_type": "text"
      },
      "source": [
        "<a href=\"https://colab.research.google.com/github/Ry02024/Conv-with-AI/blob/main/conv_with_ai.ipynb\" target=\"_parent\"><img src=\"https://colab.research.google.com/assets/colab-badge.svg\" alt=\"Open In Colab\"/></a>"
      ]
    },
    {
      "cell_type": "markdown",
      "metadata": {
        "id": "J-_6DGDfXu0X"
      },
      "source": [
        "## 初期設定"
      ]
    },
    {
      "cell_type": "code",
      "execution_count": 2,
      "metadata": {
        "colab": {
          "base_uri": "https://localhost:8080/"
        },
        "outputId": "a89c2732-4ce8-4b57-ac9b-d055a0a2b2c8",
        "id": "5M9e67clXu0X"
      },
      "outputs": [
        {
          "output_type": "stream",
          "name": "stdout",
          "text": [
            "Mounted at /content/drive\n"
          ]
        }
      ],
      "source": [
        "from google.colab import drive\n",
        "drive.mount('/content/drive')"
      ]
    },
    {
      "cell_type": "markdown",
      "metadata": {
        "id": "RGptqrQZXu0X"
      },
      "source": [
        "## 環境構築"
      ]
    },
    {
      "cell_type": "code",
      "execution_count": 3,
      "metadata": {
        "colab": {
          "base_uri": "https://localhost:8080/"
        },
        "outputId": "e8668c74-dc39-4450-cdda-d7ec47d703b6",
        "id": "3SadEvuLXu0X"
      },
      "outputs": [
        {
          "output_type": "stream",
          "name": "stdout",
          "text": [
            "\u001b[2K     \u001b[90m━━━━━━━━━━━━━━━━━━━━━━━━━━━━━━━━━━━━━━━━\u001b[0m \u001b[32m44.3/44.3 kB\u001b[0m \u001b[31m2.3 MB/s\u001b[0m eta \u001b[36m0:00:00\u001b[0m\n",
            "\u001b[2K   \u001b[90m━━━━━━━━━━━━━━━━━━━━━━━━━━━━━━━━━━━━━━━━\u001b[0m \u001b[32m9.1/9.1 MB\u001b[0m \u001b[31m46.4 MB/s\u001b[0m eta \u001b[36m0:00:00\u001b[0m\n",
            "\u001b[2K   \u001b[90m━━━━━━━━━━━━━━━━━━━━━━━━━━━━━━━━━━━━━━━━\u001b[0m \u001b[32m6.9/6.9 MB\u001b[0m \u001b[31m84.5 MB/s\u001b[0m eta \u001b[36m0:00:00\u001b[0m\n",
            "\u001b[2K   \u001b[90m━━━━━━━━━━━━━━━━━━━━━━━━━━━━━━━━━━━━━━━━\u001b[0m \u001b[32m79.1/79.1 kB\u001b[0m \u001b[31m6.1 MB/s\u001b[0m eta \u001b[36m0:00:00\u001b[0m\n",
            "\u001b[?25h"
          ]
        }
      ],
      "source": [
        "!pip install streamlit -q\n",
        "!pip install pyngrok -q"
      ]
    },
    {
      "cell_type": "code",
      "execution_count": 4,
      "metadata": {
        "id": "st53iTM3Xu0X"
      },
      "outputs": [],
      "source": [
        "import streamlit as st\n",
        "from pyngrok import ngrok"
      ]
    },
    {
      "cell_type": "code",
      "execution_count": 6,
      "metadata": {
        "id": "RtVlBNcpXu0X"
      },
      "outputs": [],
      "source": [
        "from google.colab import userdata\n",
        "NGROK_AUTH_TOKEN = userdata.get('NGROK_AUTH_TOKEN')"
      ]
    },
    {
      "cell_type": "code",
      "execution_count": 7,
      "metadata": {
        "colab": {
          "base_uri": "https://localhost:8080/"
        },
        "outputId": "ead8978a-782f-470d-82e9-904e52307749",
        "id": "h58c8bqOXu0Y"
      },
      "outputs": [
        {
          "output_type": "stream",
          "name": "stdout",
          "text": []
        }
      ],
      "source": [
        "from pyngrok import ngrok\n",
        "import os\n",
        "\n",
        "# ngrokトークンを設定\n",
        "ngrok.set_auth_token(NGROK_AUTH_TOKEN)"
      ]
    },
    {
      "cell_type": "markdown",
      "source": [
        "# 実行ファイル"
      ],
      "metadata": {
        "id": "JjndsXhKzI5X"
      }
    },
    {
      "cell_type": "code",
      "execution_count": 81,
      "metadata": {
        "colab": {
          "base_uri": "https://localhost:8080/"
        },
        "id": "Q-Cp3TYDtzs-",
        "outputId": "e2bb5e5d-c1ed-4359-edad-e59a837aeb1a"
      },
      "outputs": [
        {
          "output_type": "stream",
          "name": "stdout",
          "text": [
            "Overwriting streamlit_app.py\n"
          ]
        }
      ],
      "source": [
        "%%writefile streamlit_app.py\n",
        "import streamlit as st\n",
        "import google.generativeai as genai\n",
        "\n",
        "# タイトルと説明\n",
        "st.title(\"💬 シンプル対話システム\")\n",
        "st.write(\"A さんの意見を元に AI が考察を提供し、B さんが修正・承認する対話システム\")\n",
        "\n",
        "# Gemini APIキーの入力\n",
        "gemini_api_key = st.text_input(\"Gemini API Key\", type=\"password\")\n",
        "\n",
        "# セッションの初期化\n",
        "if \"messages\" not in st.session_state:\n",
        "    st.session_state.messages = []\n",
        "if \"waiting_for_ai\" not in st.session_state:\n",
        "    st.session_state.waiting_for_ai = False  # AI が考察中かどうか\n",
        "if \"waiting_for_b\" not in st.session_state:\n",
        "    st.session_state.waiting_for_b = False  # B さんの承認待ち状態\n",
        "if \"b_review_text\" not in st.session_state:\n",
        "    st.session_state.b_review_text = \"\"  # B さんの修正用のテキスト\n",
        "\n",
        "# APIキーが入力された場合\n",
        "if gemini_api_key:\n",
        "    try:\n",
        "        # Geminiクライアントの設定\n",
        "        genai.configure(api_key=gemini_api_key)\n",
        "        model = genai.GenerativeModel(model_name='gemini-1.5-pro')\n",
        "\n",
        "        # チャット履歴の表示\n",
        "        st.subheader(\"📜 Chat History\")\n",
        "        for message in st.session_state.messages:\n",
        "            role = \"A さん\" if message[\"role\"] == \"user\" else \"AI\" if message[\"role\"] == \"assistant\" else \"B さん\"\n",
        "            with st.chat_message(role):\n",
        "                st.markdown(message[\"content\"])\n",
        "\n",
        "        # **A さんの意見入力（エンターで送信）**\n",
        "        if not st.session_state.waiting_for_ai and not st.session_state.waiting_for_b:\n",
        "            user_input = st.chat_input(\"A さんの意見を入力してください:\")\n",
        "\n",
        "            if user_input:  # 空入力や None の場合は処理しない\n",
        "                st.session_state.messages.append({\"role\": \"user\", \"content\": user_input})\n",
        "                st.session_state.waiting_for_ai = True  # AI の処理待ち状態に切り替え\n",
        "                st.rerun()  # 画面を更新して AI の考察に進む\n",
        "\n",
        "        # **A さんの発言後、AI が考察**\n",
        "        elif st.session_state.waiting_for_ai:\n",
        "            with st.spinner(\"AIが考えています...\"):  # AI の考察中にスピナー表示\n",
        "                # AIに過去の履歴を含めて文脈を伝える\n",
        "                conversation_history = \"\\n\".join(\n",
        "                    [f\"{m['role']}: {m['content']}\" for m in st.session_state.messages]\n",
        "                )\n",
        "                prompt = f\"\"\"\n",
        "                現在の会話の文脈:\n",
        "                {conversation_history}\n",
        "\n",
        "                ユーザーが「{st.session_state.messages[-1]['content']}」と発言しました。\n",
        "                適切な文脈を考慮し、簡潔に回答してください。\n",
        "                \"\"\"\n",
        "\n",
        "                # AIが考察を生成\n",
        "                try:\n",
        "                    response = model.generate_content(contents=[prompt])\n",
        "                    ai_thoughts = response.text if response.text else \"AIの考察を生成できませんでした。\"\n",
        "\n",
        "                    # AIの考察をセッションに保存し、B さんが編集できるようにする\n",
        "                    st.session_state.messages.append({\"role\": \"assistant\", \"content\": ai_thoughts})\n",
        "                    st.session_state.b_review_text = ai_thoughts  # AIの考察をB さんの入力として保持\n",
        "                    st.session_state.waiting_for_ai = False  # AI の処理終了\n",
        "                    st.session_state.waiting_for_b = True  # B さんの修正フェーズに移行\n",
        "                    st.rerun()  # 画面を更新して B さんの入力フェーズへ\n",
        "\n",
        "                except Exception as e:\n",
        "                    st.error(f\"エラーが発生しました: {e}\")\n",
        "                    st.session_state.waiting_for_ai = False  # エラー時にも状態リセット\n",
        "                    st.rerun()\n",
        "\n",
        "        # **B さんが修正 & 承認（エンターで確定）**\n",
        "        elif st.session_state.waiting_for_b:\n",
        "            st.write(\"📝 B さんの修正エリア（AIの考察が反映）:\")\n",
        "            b_review_text = st.text_area(\n",
        "                \"B さんが修正してください:\",\n",
        "                value=st.session_state.b_review_text,  # AI の考察を事前入力\n",
        "                height=150\n",
        "            )\n",
        "\n",
        "            if st.chat_input(\"B さんが修正を確定:\"):\n",
        "                st.session_state.messages.append({\"role\": \"b_user\", \"content\": b_review_text})\n",
        "                st.session_state.b_review_text = \"\"  # 修正完了後リセット\n",
        "                st.session_state.waiting_for_b = False  # 次の A さんの入力を待つ状態に戻す\n",
        "                st.rerun()  # 画面を更新して A さんの入力フェーズへ\n",
        "\n",
        "    except Exception as e:\n",
        "        st.error(f\"Gemini API の設定に失敗しました: {e}\")\n",
        "\n",
        "else:\n",
        "    st.info(\"Gemini APIキーを入力してください\", icon=\"🗝️\")\n"
      ]
    },
    {
      "cell_type": "markdown",
      "metadata": {
        "id": "J046CJhRXu0Y"
      },
      "source": [
        "#アプリの起動"
      ]
    },
    {
      "cell_type": "code",
      "execution_count": 82,
      "metadata": {
        "colab": {
          "base_uri": "https://localhost:8080/"
        },
        "outputId": "183f6ff6-0f86-46dd-d2e9-668243d67adb",
        "id": "LYS-cgibXu0Y"
      },
      "outputs": [
        {
          "output_type": "stream",
          "name": "stdout",
          "text": [
            "Public URL: NgrokTunnel: \"https://8623-34-80-101-136.ngrok-free.app\" -> \"http://localhost:8501\"\n"
          ]
        }
      ],
      "source": [
        "# ngrokを介してStreamlitを公開\n",
        "public_url = ngrok.connect(addr='8501')\n",
        "print('Public URL:', public_url)"
      ]
    },
    {
      "cell_type": "code",
      "source": [
        "# Streamlitアプリケーションの起動\n",
        "!streamlit run streamlit_app.py >/dev/null"
      ],
      "metadata": {
        "id": "s4Cz3FY9Xu0Y",
        "outputId": "35ffbbb8-5b9c-4f00-88a8-db489198fe03",
        "colab": {
          "base_uri": "https://localhost:8080/"
        }
      },
      "execution_count": 83,
      "outputs": [
        {
          "output_type": "stream",
          "name": "stdout",
          "text": [
            "^C\n"
          ]
        }
      ]
    }
  ]
}